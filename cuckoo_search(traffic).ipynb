{
 "cells": [
  {
   "cell_type": "code",
   "execution_count": 1,
   "id": "b9b0e654",
   "metadata": {},
   "outputs": [
    {
     "name": "stdout",
     "output_type": "stream",
     "text": [
      "Green Light Timings (seconds): [14.04385594 13.38439428 33.44172735]\n",
      "Best Fitness Value (Total Waiting Time): 35.89970997182197\n"
     ]
    }
   ],
   "source": [
    "\n",
    "\n",
    "import numpy as np\n",
    "from scipy.special import gamma\n",
    "\n",
    "def fitness_function(x):\n",
    "    waiting_times = np.array([10 + (x[i] ** 1.5) / 50 for i in range(len(x))])\n",
    "    total_waiting_time = np.sum(waiting_times)\n",
    "    return total_waiting_time\n",
    "\n",
    "\n",
    "def levy_flight(dim, beta=1.5):\n",
    "    sigma_u = np.power((gamma(1 + beta) * np.sin(np.pi * beta / 2) /\n",
    "                        gamma((1 + beta) / 2) * beta * (2 ** (beta - 1))), 1 / beta)\n",
    "    u = np.random.normal(0, sigma_u, dim)\n",
    "    v = np.random.normal(0, 1, dim)\n",
    "    step = u / np.power(np.abs(v), 1 / beta)\n",
    "    return step\n",
    "\n",
    "\n",
    "def cuckoo_search(dim, bounds, num_nests, max_iter, p_a=0.1, Lambda=1.5):\n",
    "    nests = np.random.uniform(bounds[0], bounds[1], (num_nests, dim))\n",
    "    fitness = np.array([fitness_function(nest) for nest in nests])\n",
    "    \n",
    "    best_idx = np.argmin(fitness)\n",
    "    best_nest = nests[best_idx]\n",
    "    best_fitness = fitness[best_idx]\n",
    "    \n",
    "    for iter in range(max_iter):\n",
    "        new_nests = np.copy(nests)\n",
    "        \n",
    "        for i in range(num_nests):\n",
    "            step = levy_flight(dim, Lambda) * 0.1\n",
    "            new_nests[i] = nests[i] + step\n",
    "            new_nests[i] = np.clip(new_nests[i], bounds[0], bounds[1])\n",
    "        \n",
    "        new_fitness = np.array([fitness_function(nest) for nest in new_nests])\n",
    "        \n",
    "        for i in range(num_nests):\n",
    "            if new_fitness[i] < fitness[i]:\n",
    "                nests[i] = new_nests[i]\n",
    "                fitness[i] = new_fitness[i]\n",
    "        \n",
    "        if np.random.rand() < p_a:\n",
    "            random_idx = np.random.randint(num_nests)\n",
    "            nests[random_idx] = np.random.uniform(bounds[0], bounds[1], dim)\n",
    "            fitness[random_idx] = fitness_function(nests[random_idx])\n",
    "        \n",
    "        current_best_idx = np.argmin(fitness)\n",
    "        current_best_fitness = fitness[current_best_idx]\n",
    "        \n",
    "        if current_best_fitness < best_fitness:\n",
    "            best_fitness = current_best_fitness\n",
    "            best_nest = nests[current_best_idx]\n",
    "    \n",
    "    return best_nest, best_fitness\n",
    "\n",
    "dim = 3\n",
    "bounds = [10, 120]\n",
    "num_nests = 20\n",
    "max_iter = 100\n",
    "\n",
    "best_solution, best_value = cuckoo_search(dim, bounds, num_nests, max_iter)\n",
    "\n",
    "print(\"Green Light Timings (seconds):\", best_solution)\n",
    "print(\"Best Fitness Value (Total Waiting Time):\", best_value)\n"
   ]
  },
  {
   "cell_type": "code",
   "execution_count": null,
   "id": "8f4386f4",
   "metadata": {},
   "outputs": [],
   "source": []
  }
 ],
 "metadata": {
  "kernelspec": {
   "display_name": "Python 3 (ipykernel)",
   "language": "python",
   "name": "python3"
  },
  "language_info": {
   "codemirror_mode": {
    "name": "ipython",
    "version": 3
   },
   "file_extension": ".py",
   "mimetype": "text/x-python",
   "name": "python",
   "nbconvert_exporter": "python",
   "pygments_lexer": "ipython3",
   "version": "3.11.5"
  }
 },
 "nbformat": 4,
 "nbformat_minor": 5
}
